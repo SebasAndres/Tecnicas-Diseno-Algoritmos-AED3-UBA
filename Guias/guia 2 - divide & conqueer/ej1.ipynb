{
 "cells": [
  {
   "cell_type": "markdown",
   "metadata": {},
   "source": [
    "# Izquierda Dominante\n",
    "\n",
    "En este caso aplicamos el teorema maestro para ver la complejidad.\n",
    "- a = 2\t\n",
    "- c = 2\n",
    "- d = 0 \n",
    "\n",
    "Por el teorema maestro queda $O(2^{log2(n)}) \\in O(n^2)$ "
   ]
  },
  {
   "cell_type": "code",
   "execution_count": null,
   "metadata": {},
   "outputs": [],
   "source": [
    "def izquierdaDominante(arr):\n",
    "\tfstMid, sndMid = arr[:len(arr)/2], arr[len(arr)/2:]\n",
    "\treturn izquierdaDominante(fstMid) and izquierdaDominante(sndMid) and sum(fstMid) >= sum(sndMid)\n"
   ]
  }
 ],
 "metadata": {
  "language_info": {
   "name": "python"
  }
 },
 "nbformat": 4,
 "nbformat_minor": 2
}
