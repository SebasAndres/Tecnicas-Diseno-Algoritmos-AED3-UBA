{
 "cells": [
  {
   "cell_type": "markdown",
   "metadata": {},
   "source": [
    "# Indice Espejo\n",
    "\n",
    "Hallar en $O(n)$ si hay un $i$ tal que $a_i = i$.\n",
    "\n",
    "La idea es que...\n",
    "\n",
    "Si $a_0 > a[\\frac{|a|}{2}]$, entonces $\\forall j \\in \\{0.. \\frac{|a|}{2}\\} \\rightarrow a_j \\neq j \\therefore \\text{si hay un }a_i = i \\text{ está en la otra mitad}$"
   ]
  },
  {
   "cell_type": "code",
   "execution_count": 5,
   "metadata": {},
   "outputs": [],
   "source": [
    "def solve(arr, i=0):\n",
    "    if len(arr) == 1:\n",
    "        return arr[0] == i\n",
    "\n",
    "    if arr[0] > len(arr)/2 - i:\n",
    "        return solve(arr[len(arr)/2:], i + len(arr)/2)\n",
    "\n",
    "    else:\n",
    "        return solve(arr[:len(arr)/2], i)"
   ]
  },
  {
   "cell_type": "code",
   "execution_count": 6,
   "metadata": {},
   "outputs": [],
   "source": [
    "solve([0,1,3,4])"
   ]
  },
  {
   "cell_type": "code",
   "execution_count": null,
   "metadata": {},
   "outputs": [],
   "source": []
  }
 ],
 "metadata": {
  "kernelspec": {
   "display_name": "Python 3",
   "language": "python",
   "name": "python3"
  },
  "language_info": {
   "codemirror_mode": {
    "name": "ipython",
    "version": 3
   },
   "file_extension": ".py",
   "mimetype": "text/x-python",
   "name": "python",
   "nbconvert_exporter": "python",
   "pygments_lexer": "ipython3",
   "version": "3.10.12"
  }
 },
 "nbformat": 4,
 "nbformat_minor": 2
}
