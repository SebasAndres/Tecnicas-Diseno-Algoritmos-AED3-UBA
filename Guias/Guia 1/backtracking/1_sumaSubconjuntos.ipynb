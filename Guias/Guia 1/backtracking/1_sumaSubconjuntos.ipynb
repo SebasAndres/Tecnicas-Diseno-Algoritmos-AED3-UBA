{
 "cells": [
  {
   "cell_type": "markdown",
   "metadata": {},
   "source": [
    "Este ejercicio desafía a encontrar subconjuntos dentro de un multiconjunto de números naturales cuya sumatoria sea un valor específico,\n",
    "utilizando la técnica de *backtracking*. Se exploran las soluciones candidatas, válidas y parciales, junto con la implementación de una \n",
    "función recursiva para determinar la existencia de dichos subconjuntos, incluyendo optimizaciones mediante reglas de factibilidad y la \n",
    "modificación de la implementación para revelar el subconjunto solución."
   ]
  },
  {
   "cell_type": "code",
   "execution_count": null,
   "metadata": {},
   "outputs": [],
   "source": [
    "def ss(C, i, j, aux):\n",
    "    # C: multiconjunto de números naturales\n",
    "    # i: índice actual\n",
    "    # j: valor objetivo\n",
    "    # aux: subconjunto actual\n",
    "    if i == 0:\n",
    "        return j == 0, aux\n",
    "    if j < 0:\n",
    "        return False\n",
    "    return ss(C, i-1, j-C[i-1], aux) or ss(C, i-1, j, aux+[C[i-1]])\n",
    "res = ss([6,12,6], 3, 12, [])\n",
    "# print(res)"
   ]
  }
 ],
 "metadata": {
  "language_info": {
   "name": "python"
  }
 },
 "nbformat": 4,
 "nbformat_minor": 2
}
