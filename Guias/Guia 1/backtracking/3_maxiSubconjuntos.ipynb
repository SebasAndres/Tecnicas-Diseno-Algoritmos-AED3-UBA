{
 "cells": [
  {
   "cell_type": "markdown",
   "metadata": {},
   "source": [
    "# Maxi Subconjuntos\n",
    "\n",
    "El desafío consiste en encontrar un subconjunto de tamaño $k$ dentro de una matriz simétrica $n \\times n$ \n",
    "que maximice la suma de sus elementos interconectados. Se aborda mediante un algoritmo de backtracking, \n",
    "evaluando su eficiencia y aplicando podas por optimalidad.\n",
    "\n",
    "### SOLUCIONES CANDIDATAS\n",
    "Una solución candidata puede ser un conjunto $I$ de índices que seleccionamos de ${1, \\ldots, n}$.\n",
    "Inicialmente, este conjunto está vacío, y vamos añadiendo elementos a medida que avanzamos.\n",
    "\n",
    "### SOLUCIONES VALIDAS\n",
    "Una solución es válida si el tamaño del conjunto $I$ es exactamente $k$.\n",
    "Solo en este punto calculamos $\\sum_{i,j \\in I} M_{ij}$ para ver si es máxima respecto a otras soluciones válidas encontradas hasta el momento.\n",
    "\n",
    "### SOLUCION PARCIAL\n",
    "Una solución parcial es cualquier conjunto $I$ con $|I| < k$.\n",
    "extendemos estas soluciones parciales añadiendo un nuevo índice de ${1, \\ldots, n}$ que aún no esté en $I$, y exploramos recursivamente.\n",
    "\n",
    "### COMPLEJIDADES:\n",
    "* La complejidad temporal es difícil de determinar sin conocer más sobre las podas que implementaremos,\n",
    "pero en el peor caso, sin podas, podría estar cerca de $O(n^k)$, ya que para cada posición en nuestro\n",
    "conjunto tenemos que considerar $n$ posibles candidatos.\n",
    "* La complejidad espacial es $O(n)$, considerando la profundidad de la pila de llamadas recursivas.\n",
    "\n",
    "### PODAS POR OPTIMALIDAD:\n",
    "Una posible poda es calcular la suma máxima teórica que podríamos obtener añadiendo los $k - |I|$ \n",
    "mayores valores restantes en $M$ a la suma actual de la solución parcial. Si esta suma teórica no supera \n",
    "a la mejor solución encontrada hasta ahora, no tiene sentido continuar explorando esa rama.\n",
    "La correctitud de esta poda se basa en que estamos calculando el mejor caso posible para la solución parcial actual,\n",
    "y si aún así no es prometedora, definitivamente no nos llevará a una solución óptima."
   ]
  },
  {
   "cell_type": "code",
   "execution_count": null,
   "metadata": {},
   "outputs": [],
   "source": [
    "def backtrack(I, k, n, M, max_sum, max_set):\n",
    "    if len(I) == k:  # Si la solución es válida\n",
    "        current_sum = sum(M[i][j] for i in I for j in I)\n",
    "        if current_sum > max_sum:\n",
    "            max_sum = current_sum\n",
    "            max_set = I.copy()  # Almacenar el conjunto I cuando encontramos una nueva suma máxima\n",
    "        return max_sum, max_set\n",
    "\n",
    "    for i in range(n):\n",
    "        if i not in I:  \n",
    "            I.add(i) # Añadir i a I si no está ya y explorar más\n",
    "            max_sum, max_set = backtrack(I, k, n, M, max_sum, max_set)  \n",
    "            I.remove(i) # Después de explorar con i, lo sacamos para probar con otro i\n",
    "\n",
    "    return max_sum, max_set\n",
    "\n",
    "# Inicializar max_set como un conjunto vacío\n",
    "max_sum, max_set = backtrack(set(), 3, 4, [[0, 10, 10, 1], [10, 0, 5, 2], [10, 5, 0, 1], [1, 2, 1, 0]], 0, set())\n",
    "\n",
    "print(max_sum)\n",
    "print(max_set)"
   ]
  }
 ],
 "metadata": {
  "language_info": {
   "name": "python"
  }
 },
 "nbformat": 4,
 "nbformat_minor": 2
}
