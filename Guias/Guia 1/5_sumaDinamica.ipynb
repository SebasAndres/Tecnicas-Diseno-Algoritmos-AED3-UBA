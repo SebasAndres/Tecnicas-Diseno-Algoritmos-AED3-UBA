{
 "cells": [
  {
   "cell_type": "markdown",
   "metadata": {},
   "source": [
    "# Suma dinamica\n",
    "\n",
    "Pregunta: Existe un subcjt de C que sume k?\n",
    "\n",
    "$n = |C|$\n",
    "\n",
    "$ss'_C: {0,..,n} \\times {0,..,k} \\rightarrow {V, F}$\n",
    "\n",
    "CASOS: \n",
    "\n",
    "* $(i=0) \\rightarrow (j==0)$\n",
    "\n",
    "* $(i\\neq0 \\land C[i]>j) \\rightarrow ss'_C(i,j)$\n",
    "\n",
    "* $(cc) \\rightarrow ss'_C(i-1,j) \\lor ss'_C(i-1, j-C[i])$"
   ]
  },
  {
   "cell_type": "markdown",
   "metadata": {},
   "source": [
    "### Llamadas recursivas $O(2^n)$\n",
    "\n",
    "La idea es que por cada nodo se extienden 2 hijos -> \n",
    "luego en N capas pueden haber 2^N nodos\n",
    "la cantidad de capas es como mucho el tamaño de C. \n",
    "\n",
    "- $ss(3, k)$ \n",
    "- $\\equiv ss(2, k) \\lor ss(2, k-c[3])$\n",
    "- $\\equiv (ss(1, k) \\lor ss(1, k-c[2])) \\lor (ss(1, k-c[3]) \\lor ss(1, k-c[3]-c[2]))$\n",
    "\n",
    "### Entradas posibles $O(nk)$\n",
    "\n",
    "La idea es que hay $n$ opciones posibles para $i$ y $k$ opciones posibles para $j$.\n",
    "\n",
    "## [B] Factibilidad de la programacion dinamica: \n",
    "\n",
    "Para aplicar PD tiene que haber superposicion de problemas y posibilidad de memorizacion. \n",
    "\n",
    "Superposicion de problemas hay si\n",
    "\n",
    "$$\\Omega(llamadasRecursivas) >> O(numeroEstados)$$\n",
    "\n",
    "$$2^n > n*k$$\n",
    "\n",
    "$$2^n/n > k$$\n",
    "\n",
    "\n",
    "Cuando $k << \\frac{2^n}{n}$ es factible aplicar programacion dinamica."
   ]
  },
  {
   "cell_type": "markdown",
   "metadata": {},
   "source": [
    "## [C] Pseudocodigo con PD "
   ]
  },
  {
   "cell_type": "code",
   "execution_count": 2,
   "metadata": {},
   "outputs": [],
   "source": [
    "def ss_(i, j): \n",
    "    global C\n",
    "    global M\n",
    "\n",
    "    if j<0:\n",
    "        return False\n",
    "    \n",
    "    if i==0:\n",
    "        return j==0 \n",
    "\n",
    "    # intento aprovechar la estructura de memoizacion    \n",
    "    if M[i][j] == -1:\n",
    "        M[i][j] = ss_(i-1,j) or ss_(i-1,j-C[i])\n",
    "\n",
    "    return M[i][j]"
   ]
  },
  {
   "cell_type": "code",
   "execution_count": 7,
   "metadata": {},
   "outputs": [],
   "source": [
    "n = 100\n",
    "C = list(range(0,n))\n",
    "M = [[-1 for _ in range(n)] for _ in range(n)]"
   ]
  },
  {
   "cell_type": "markdown",
   "metadata": {},
   "source": [
    "### [D] Complejidad \n",
    "- Temporal: Puede pasar por $n*k$ estados unicos, que se los obtiene en $O(1)$. Es decir $O(nk)$.\n",
    "- Espacial: Necesita O(n*k) para almacenar la matriz M.\n",
    "\n",
    "## Comparacion con Algoritmo de Backtracking \n",
    "- Backtracking: $O(2^n)$\n",
    "- Programacion dinamica: $O(nk)$ \n",
    "\n",
    "Luego, \n",
    "\n",
    "- Si $2^n/n \\gg k$, programacion dinamica es significativamente mejor\n",
    "- Sino, sigue siendo mejor pero no es tan significativo"
   ]
  }
 ],
 "metadata": {
  "kernelspec": {
   "display_name": "Python 3",
   "language": "python",
   "name": "python3"
  },
  "language_info": {
   "codemirror_mode": {
    "name": "ipython",
    "version": 3
   },
   "file_extension": ".py",
   "mimetype": "text/x-python",
   "name": "python",
   "nbconvert_exporter": "python",
   "pygments_lexer": "ipython3",
   "version": "3.10.11"
  }
 },
 "nbformat": 4,
 "nbformat_minor": 2
}
