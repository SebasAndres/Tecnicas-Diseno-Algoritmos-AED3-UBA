{
 "cells": [
  {
   "cell_type": "markdown",
   "metadata": {},
   "source": [
    "# Astro Trade 🚀\n",
    "\n",
    "El input del problema es una serie $p \\in \\N^n$ con los precios de un asteroide en $n$ dias.\n",
    "\n",
    "O sea, $p_i$ es el precio del asteroide el i-esimo dia ($i<n$)\n",
    "\n",
    "Quiero maximizar el beneficio comprando y vendiendo asteroides, pudiendo vender asteroides que ya haya comprado al j-esimo dia ($j<i$). \n",
    "\n",
    "\n",
    "$$mgn(c,j) := \\left\\{\n",
    "    \\begin{array}{lcc}\n",
    "    0 & (c<0) \\lor (c>j)\\\\\n",
    "    \\\\\n",
    "    max(\n",
    "        mgn(c-1, j-1)-p_j,\n",
    "        mgn(c+1, j-1)+p_j,\n",
    "        mgn(c, j-1)\n",
    "    ) & cc. \\\\\n",
    "    \\end{array} \\right.\n",
    "$$\n",
    "\n",
    "Bajo esta formulacion recursiva, la respuesta del problema es computar $mgn(0,n)$\n",
    "\n",
    "##### Validamos superposicion de problemas:\n",
    "\n",
    "- Llamadas recursivas: $O(3^n)$, hay `n` niveles con 3 llamadas por cada nodo.\n",
    "\n",
    "- Cantidad de estados posibles: $O((C_0+n)*n) \\equiv O(C_0n + n^2)$, porque la cantidad de estados es `posiblesAsteroides*posiblesdias`. Los asteroides que se manejan depende del numero inicial de asteroides $C_0$ mas la cantidad de dias $n$; y los dias son $n$. \n",
    "\n",
    "\n",
    "Hay superposicion $\\iff \\Omega(3^n) \\gg O(C_0n+n^2)$"
   ]
  },
  {
   "cell_type": "markdown",
   "metadata": {},
   "source": [
    "### [d] Algoritmo Programacion Dinamica con enfoque Top Down"
   ]
  },
  {
   "cell_type": "code",
   "execution_count": 39,
   "metadata": {},
   "outputs": [],
   "source": [
    "import numpy as np\n",
    "\n",
    "def mgn(c, j):\n",
    "    # Complejidad temporal: O(3^n)\n",
    "    # Complejidad espacial: O(c0*n)\n",
    "\n",
    "    global M\n",
    "    global p\n",
    "\n",
    "    if c < 0 or c > j:\n",
    "        return -np.inf\n",
    "\n",
    "    # intento aprovechar la estructura\n",
    "    if M[c][j] == -1:\n",
    "        casoCompra = mgn(c-1, j-1) - p[j]                   # en el j-esimo dia compramos un asteroide\n",
    "        casoVenta = mgn(c+1, j-1) + p[j]                    # en el j-esimo dia vendemos un asteroide\n",
    "        caosNada = mgn(c, j-1)                              # en el j-esimo dia no hacemos nada\n",
    "        M[c][j] = max(casoCompra, casoVenta, caosNada)\n",
    "\n",
    "    return M[c][j]\n",
    "\n",
    "def solve(c0, p):\n",
    "    n = len(p)-1\n",
    "\n",
    "    # estructura de memoizacion\n",
    "    M = np.empty((c0+n, c0+n))\n",
    "    M.fill(-1)\n",
    "\n",
    "    # solucion\n",
    "    return mgn(c0, n)"
   ]
  },
  {
   "cell_type": "code",
   "execution_count": 40,
   "metadata": {},
   "outputs": [
    {
     "data": {
      "text/plain": [
       "True"
      ]
     },
     "execution_count": 40,
     "metadata": {},
     "output_type": "execute_result"
    }
   ],
   "source": [
    "solve(0, [3,6,10]) == 7"
   ]
  },
  {
   "cell_type": "code",
   "execution_count": 41,
   "metadata": {},
   "outputs": [
    {
     "data": {
      "text/plain": [
       "11.0"
      ]
     },
     "execution_count": 41,
     "metadata": {},
     "output_type": "execute_result"
    }
   ],
   "source": [
    "solve(0, [3,2,5,6]) #  == 6"
   ]
  },
  {
   "cell_type": "markdown",
   "metadata": {},
   "source": [
    "### [e] Algoritmo de Programacion Dinamica - Bottom-up"
   ]
  },
  {
   "cell_type": "code",
   "execution_count": 60,
   "metadata": {},
   "outputs": [],
   "source": [
    "def solveBottomUp(c0, p):\n",
    "    n = len(p)-1\n",
    "\n",
    "    # estructura de memoizacion\n",
    "    M = np.empty((c0+n, n))\n",
    "    M.fill(-1)\n",
    "\n",
    "    # caso base\n",
    "    for c in range(c0+n):\n",
    "        M[c][0] = 0\n",
    "\n",
    "    # caso recursivo\n",
    "    for j in range(1, n+1):\n",
    "        for c in range(c0, c0+n):\n",
    "            casoCompra = M[c-1][j-1] - p[j]                   # en el j-esimo dia compramos un asteroide\n",
    "            casoVenta = M[c+1][j-1] + p[j]                    # en el j-esimo dia vendemos un asteroide\n",
    "            caosNada = M[c][j-1]                              # en el j-esimo dia no hacemos nada\n",
    "            M[c][j] = max(casoCompra, casoVenta, caosNada)\n",
    "\n",
    "    return M[c0][n]"
   ]
  },
  {
   "cell_type": "code",
   "execution_count": null,
   "metadata": {},
   "outputs": [],
   "source": [
    "solveBottomUp(0, [3,6,10]) == 7"
   ]
  }
 ],
 "metadata": {
  "kernelspec": {
   "display_name": "Python 3",
   "language": "python",
   "name": "python3"
  },
  "language_info": {
   "codemirror_mode": {
    "name": "ipython",
    "version": 3
   },
   "file_extension": ".py",
   "mimetype": "text/x-python",
   "name": "python",
   "nbconvert_exporter": "python",
   "pygments_lexer": "ipython3",
   "version": "3.10.11"
  }
 },
 "nbformat": 4,
 "nbformat_minor": 2
}
