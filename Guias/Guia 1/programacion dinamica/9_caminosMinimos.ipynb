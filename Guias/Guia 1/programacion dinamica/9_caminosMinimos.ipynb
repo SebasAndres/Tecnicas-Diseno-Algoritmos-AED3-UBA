{
 "cells": [
  {
   "cell_type": "markdown",
   "metadata": {},
   "source": [
    "# Caminos Minimos (hecho en clase)\n",
    "\n",
    "Dada una matriz $M \\in \\N^{n \\times n}$, hallar minimo camino desde `(0,0)` a `(m-1,n-1)`.\n",
    "\n",
    "El costo de un camino es $C = \\sum_{(i,j) \\in \\text{path}} M[i][j]$"
   ]
  },
  {
   "cell_type": "markdown",
   "metadata": {},
   "source": [
    "### Solucion en clase\n",
    "\n",
    "La idea es que ...\n",
    "\n",
    "\n",
    "$$\\text{minC(i,j)} = \\begin{cases}\n",
    "    M[i,j] & si & i==m \\land j==n \\\\\n",
    "    M[i,j] + \\text{minC(i, j+1)} & si & i==m \\land j<n \\\\\n",
    "    M[i,j] + \\text{minC(i+1, j)} & si & i<m \\land j==n \\\\\n",
    "    M[i,j] + \\min(\\text{minCamino(i+1,j,M)}, \\text{minCamino(i,j+1,M)}) && \\text{caso contrario}\n",
    "\\end{cases}$$"
   ]
  },
  {
   "cell_type": "markdown",
   "metadata": {},
   "source": [
    "### Algoritmo con Backtracking"
   ]
  },
  {
   "cell_type": "code",
   "execution_count": 82,
   "metadata": {},
   "outputs": [],
   "source": [
    "import numpy as np\n",
    "\n",
    "def caminoMinimoBT(M, i=0, j=0):\n",
    "    m, n = M.shape\n",
    "    # caso base --> ultima fila\n",
    "    if i == m-1 and j == n-1:\n",
    "        return M[i][j]\n",
    "\n",
    "    # caso ultima fila, avanzar a la derecha    \n",
    "    if i == m-1 and j < n-1:\n",
    "        return M[i][j] + caminoMinimoBT(M, i, j+1)\n",
    "\n",
    "    # caso ultima columna, avanzar abajo\n",
    "    if i < m-1 and j == n-1:\n",
    "        return M[i][j] + caminoMinimoBT(M, i+1, j)\n",
    "\n",
    "    # avanzar a la derecha o abajo    \n",
    "    return M[i][j] + min(caminoMinimoBT(M, i+1, j), caminoMinimoBT(M, i, j+1))"
   ]
  },
  {
   "cell_type": "markdown",
   "metadata": {},
   "source": [
    "### Algoritmo PD Top Down\n",
    "\n",
    "- Complejidad temporal: $O(m*n)$, porque hay $m*n$ celdas a calcular en $O(1)$\n",
    "- Complejidad espacial: $O(m*n)$, usamos la matriz auxiliar $K \\in \\N^{m \\times n}$"
   ]
  },
  {
   "cell_type": "code",
   "execution_count": 83,
   "metadata": {},
   "outputs": [],
   "source": [
    "def mc_TD(M, i, j, K):\n",
    "    # K: matriz de memoizacion\n",
    "    m, n = M.shape\n",
    "\n",
    "    if K[i][j] == -1:\n",
    "        # caso base --> ultima fila\n",
    "        if i == m-1 and j == n-1:\n",
    "            val = M[i][j]\n",
    "        # caso ultima fila, avanzar a la derecha    \n",
    "        elif i == m-1 and j < n-1:\n",
    "            val = M[i][j] + caminoMinimoBT(M, i, j+1)\n",
    "        # caso ultima columna, avanzar abajo\n",
    "        elif i < m-1 and j == n-1:\n",
    "            val = M[i][j] + caminoMinimoBT(M, i+1, j)\n",
    "        # avanzar a la derecha o abajo    \n",
    "        else:\n",
    "            val = M[i][j] + min(caminoMinimoBT(M, i+1, j), caminoMinimoBT(M, i, j+1))\n",
    "        K[i][j] = val\n",
    "\n",
    "    return K[i][j]\n",
    "\n",
    "def caminoMinimoTD(M):\n",
    "    m, n = M.shape\n",
    "    K = np.full((m, n), -1)\n",
    "    return mc_TD(M, 0, 0, K)"
   ]
  },
  {
   "cell_type": "markdown",
   "metadata": {},
   "source": [
    "### Algoritmo PD Bottom up\n",
    "\n",
    "La idea es que completo primero la ultima columna y la ultima fila, y a partir de ahi puedo calcular todos los casos `4`, recorriendo de derecha a izquierda de\n",
    "\n",
    "$(m-1, n-1) \\rightarrow (m-2, n-1) \\rightarrow ...$\n",
    "\n",
    "Al igual que en Top Down...\n",
    "- Complejidad temporal: $O(m*n)$, porque hay $m*n$ celdas a calcular en $O(1)$\n",
    "- Complejidad espacial: $O(m*n)$, usamos la matriz auxiliar $K \\in \\N^{m \\times n}$"
   ]
  },
  {
   "cell_type": "code",
   "execution_count": null,
   "metadata": {},
   "outputs": [],
   "source": [
    "def minCamino(M) -> dict:\n",
    "    dic = {}\n",
    "    m = len(M) - 1\n",
    "    n = len(M[0]) - 1\n",
    "    dic[(m,n)] = M[m][n] #caso 1\n",
    "    for j in range(n-1, -1, -1): #caso 2\n",
    "        dic[(m, j)] = M[m][j] + dic[(m, j+1)]\n",
    "\n",
    "    for i in range(m-1, -1, -1): #caso 3\n",
    "        dic[(i,n)] = M[i][n] + dic[(i+1, n)]\n",
    "\n",
    "    for i in range(m-1, -1, -1): #caso 4\n",
    "        for j in range(n-1, -1, -1):\n",
    "            dic[(i,j)] = M[i][j] + min(dic[(i+1,j)], dic[(i, j+1)])\n",
    "    return dic\n"
   ]
  },
  {
   "cell_type": "markdown",
   "metadata": {},
   "source": [
    "## Reconstruccion \n",
    "\n",
    "Tras calcular costoMin(M) y armar la matriz de valores, la usa para obtener el camino mas optimo."
   ]
  },
  {
   "cell_type": "markdown",
   "metadata": {},
   "source": [
    "### Tests varios"
   ]
  },
  {
   "cell_type": "code",
   "execution_count": 85,
   "metadata": {},
   "outputs": [],
   "source": [
    "test1 = np.array([\n",
    "    [5, 4, 2],\n",
    "    [1, 3, 20],\n",
    "    [19, 1, 4]\n",
    "])\n",
    "\n",
    "test2 = np.array([\n",
    "    [1, 2],\n",
    "    [3, 4],\n",
    "])\n",
    "\n",
    "minCostoBT = caminoMinimoBT(test1)\n",
    "minCostoTD = caminoMinimoTD(test1)"
   ]
  }
 ],
 "metadata": {
  "kernelspec": {
   "display_name": "Python 3",
   "language": "python",
   "name": "python3"
  },
  "language_info": {
   "codemirror_mode": {
    "name": "ipython",
    "version": 3
   },
   "file_extension": ".py",
   "mimetype": "text/x-python",
   "name": "python",
   "nbconvert_exporter": "python",
   "pygments_lexer": "ipython3",
   "version": "3.10.11"
  }
 },
 "nbformat": 4,
 "nbformat_minor": 2
}
