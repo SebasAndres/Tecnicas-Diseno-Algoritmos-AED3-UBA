{
 "cells": [
  {
   "cell_type": "markdown",
   "metadata": {},
   "source": [
    "# Cortes Economicos\n",
    "\n",
    "El costo de hacer un corte de una madera de longitud `l` es $l$ (cualquiera sea el corte).\n",
    "\n",
    "Tenemos que cortaruna madera en distintos puntos de corte $C_i \\in {0,..,l}$ almacenados en $C$.\n",
    "\n",
    "Queremos encontrar el minimo costo posible de cortar una vara de longitud $l$ en los puntos de corte determinados $C$.\n",
    "\n",
    "$$ \\text{CostoMin}(i, j) = \\begin{cases} 0 & \\text{si no hay puntos de corte entre } i \\text{ y } j \\\n",
    "\\\\\n",
    "   \\min_{c \\in C, i < c < j} \\left( (j-i) + \\text{CostoMin}(i, c) + \\text{CostoMin}(c, j) \\right) & \\text{de lo contrario} \\end{cases} $$"
   ]
  },
  {
   "cell_type": "markdown",
   "metadata": {},
   "source": [
    "### Algoritmo de Programacion Dinamica - Top Down\n",
    "\n",
    "* Complejidad temporal: $O(|C|^3)$, porque se hay $|C|^2$ estados unicos (subproblemas a resolver), con un coste de O($|C|$) cada uno (iteramos sobre todos los cortes posibles entre `i` y `j`).\n",
    "\n",
    "* Complejidad espacial: $O(|C|^2)$, porque la matriz auxiliar mide $L^2$, ya que el dominio de posibles llamados es de ${0..L}^2$"
   ]
  },
  {
   "cell_type": "code",
   "execution_count": 86,
   "metadata": {},
   "outputs": [],
   "source": [
    "import numpy as np\n",
    "\n",
    "def CostoMin(C, i, j, M):\n",
    "    # intento aplicar memoizacion\n",
    "    if M[i][j] != -1:\n",
    "        return M[i][j]\n",
    "\n",
    "    # obtengo los puntos de corte en el rango [i, j]\n",
    "    elementosEnRango = list(filter(lambda x: i <= x and x <= j, C))\n",
    "\n",
    "    # caso base \n",
    "    if len(elementosEnRango) == 0:\n",
    "        return 0\n",
    "\n",
    "    # caso recursivo   \n",
    "    minCostInterno = float('inf')\n",
    "    for elem in elementosEnRango:\n",
    "        C.remove(elem)\n",
    "        cost = CostoMin(C, i, elem, M) + CostoMin(C, elem, j, M) + (j-i)\n",
    "        if cost <= minCostInterno:\n",
    "            minCostInterno = cost              \n",
    "        C.append(elem)\n",
    "\n",
    "    # guardo el resultado en la matriz de memoizacion\n",
    "    M[i][j] = minCostInterno\n",
    "    \n",
    "    return M[i][j]\n",
    "\n",
    "\n",
    "def solve(C, L):\n",
    "    # inicializo la matriz de memoizacion\n",
    "    M = np.empty((L+1,L+1), dtype=int)\n",
    "    M.fill(-1)\n",
    "\n",
    "    # ordeno los costos para que el algoritmo sea mas eficiente\n",
    "    C.sort()                                            \n",
    "    \n",
    "    # llamo a la funcion recursiva\n",
    "    return CostoMin(C, 0, L, M)"
   ]
  },
  {
   "cell_type": "code",
   "execution_count": 87,
   "metadata": {},
   "outputs": [
    {
     "data": {
      "text/plain": [
       "20"
      ]
     },
     "execution_count": 87,
     "metadata": {},
     "output_type": "execute_result"
    }
   ],
   "source": [
    "solve([2,4,7], 10)"
   ]
  },
  {
   "cell_type": "markdown",
   "metadata": {},
   "source": [
    "### Algoritmo de Programacion Dinamica - Bottom up\n",
    "\n",
    "- Complejidad Temporal: $O(|C|^3)$\n",
    "- Complejidad Espacial: $O(|C|^2)$"
   ]
  },
  {
   "cell_type": "code",
   "execution_count": null,
   "metadata": {},
   "outputs": [],
   "source": [
    "# El procedimiento sería: \n",
    "# 1. Inicializar la matriz de dp (dynamic programmation) con ceros para los casos base. \n",
    "# 2. Llenar la matriz de dp iterativamente, utilizando la fórmula para calcular el\n",
    "#     mínimo costo de cortar entre cada par de puntos de corte.\n",
    "\n",
    "def CostMinBottomUp(C, L):\n",
    "    # inicializo la matriz de memoizacion\n",
    "    M = np.empty((L+1,L+1), dtype=int)\n",
    "    M.fill(-1)\n",
    "\n",
    "    # ordeno los costos para que el algoritmo sea mas eficiente\n",
    "    C.sort()                                            \n",
    "    \n",
    "    # caso base\n",
    "    for i in range(0, L+1):\n",
    "        M[i][i] = 0\n",
    "\n",
    "    # paso por todos los estados posibles para armar la matriz de memoizacion M\n",
    "    for l in range(2, L+1):\n",
    "        # Por cada longitud posible L    \n",
    "        for i in range(0, L-l+1):\n",
    "            # Por cada punto de corte posible desde `i` a `l` \n",
    "            j = i + l\n",
    "            minCostInterno = float('inf')\n",
    "            # Aca los posibles C son todos los elementos que estan en el rango [i, j]\n",
    "            for k in range(i+1, j):\n",
    "                cost = M[i][k] + M[k][j] + (j-i)\n",
    "                if cost <= minCostInterno:\n",
    "                    minCostInterno = cost\n",
    "            M[i][j] = minCostInterno\n",
    "\n",
    "    # devuelvo el valor de la solucion pedido\n",
    "    return M[0][L]"
   ]
  },
  {
   "cell_type": "markdown",
   "metadata": {},
   "source": [
    "#### Una observacion sobre las complejidades en TopDown y BottomUp:\n",
    "\n",
    "La razón por la que la complejidad espacial es ($O(|C|^2)$) y no ($O(\\ell^2)$) se debe a que la cantidad de subproblemas que necesitamos resolver (y por lo tanto, el tamaño de nuestra tabla de memorización) está directamente relacionada con el número de cortes posibles, es decir, el tamaño de ($C$), más los dos cortes adicionales (el inicio y el final de la vara), no con la longitud física ($\\ell$) de la vara.\n",
    "\n",
    "Para cada par de puntos de corte, necesitamos calcular y almacenar el costo mínimo de realizar los cortes entre esos dos puntos. Dado que estamos interesados en todos los pares posibles de puntos de corte, el número total de entradas en nuestra tabla será proporcional al cuadrado del número de puntos de corte, es decir, ($O((|C|+2)^2)$), lo cual simplificamos como ($O(|C|^2)$) para fines de análisis de complejidad.\n",
    "\n",
    "El análisis de la longitud física ($\\ell$) de la vara no es relevante para la complejidad espacial del algoritmo de PD porque no estamos almacenando resultados intermedios para cada posible longitud de subvara a lo largo de la vara original, sino solo para los segmentos definidos por los puntos de corte específicos en ($C$). Esto es un aspecto crucial de la programación dinámica: optimizar el uso de la memoria al limitar el número de subproblemas que necesitamos resolver, basándonos en las características específicas del problema.\n",
    "\n",
    "En conclusión, la complejidad espacial es ($O(|C|^2)$) porque el número de subproblemas (segmentos entre cortes) que necesitamos considerar crece con el cuadrado del número de puntos de corte, no con el cuadrado de la longitud total de la vara.\n",
    "\n",
    "\n",
    "Creo: \"Si bien es mide $\\ell^2$ la matriz, solo uso $|C|^2$ celdas y podria ahorrarse el resto de memoria con otra estructura\".\n",
    "\n",
    "**Es decir, si bien los `i`, `j` se mueven de 0 a $\\ell$, solo lo hacen de a saltos por los $c \\in C$.**"
   ]
  }
 ],
 "metadata": {
  "kernelspec": {
   "display_name": "Python 3",
   "language": "python",
   "name": "python3"
  },
  "language_info": {
   "codemirror_mode": {
    "name": "ipython",
    "version": 3
   },
   "file_extension": ".py",
   "mimetype": "text/x-python",
   "name": "python",
   "nbconvert_exporter": "python",
   "pygments_lexer": "ipython3",
   "version": "3.10.11"
  }
 },
 "nbformat": 4,
 "nbformat_minor": 2
}
