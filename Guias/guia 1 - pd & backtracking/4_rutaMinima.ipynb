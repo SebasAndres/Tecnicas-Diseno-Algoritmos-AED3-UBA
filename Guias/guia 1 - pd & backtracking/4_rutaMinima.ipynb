{
 "cells": [
  {
   "cell_type": "markdown",
   "metadata": {},
   "source": [
    "# Ruta Minima\n",
    "\n",
    "Dada una matriz $D \\in \\N^{n\\times n}$ hallar una permutacion $\\pi = {0 .. N}$ que minimice $S(D, \\pi)$\n",
    "\n",
    "$$S(D, pi) = D_{\\pi(n)\\pi(1)} + \\sum_{i=1}^{n-1} D_{\\pi(i)\\pi(i+1)}$$\n",
    "\n",
    "Donde $\\pi(i)$ es el elemento en la i-esima posicion de la permutacion."
   ]
  },
  {
   "cell_type": "code",
   "execution_count": 154,
   "metadata": {},
   "outputs": [],
   "source": [
    "lowestValue = 1000000\n",
    "currentBestSolution = []\n",
    "\n",
    "def evaluate(pi, D): # s(pi, D)\n",
    "    n = len(D)-1\n",
    "    p = lambda i: pi[i]-1\n",
    "    return D[p(n)][p(0)] + sum([D[p(i)][p(i+1)] for i in range(0, n)])\n",
    "\n",
    "def solve(D, pi=[], verbose=True):\n",
    "    global lowestValue\n",
    "    global currentBestSolution\n",
    "\n",
    "    N = len(D)\n",
    "    pi_ = pi.copy()\n",
    " \n",
    "    if len(pi) == N:\n",
    "        # validar si es el mejor caso y actualizar las estructuras globales\n",
    "        pi_evaluation = evaluate(pi, D)   \n",
    "        \n",
    "        if verbose:\n",
    "            print(f\"pi:{pi} -> S(pi):{pi_evaluation}\")\n",
    " \n",
    "        if pi_evaluation < lowestValue:\n",
    "            lowestValue = pi_evaluation\n",
    "            currentBestSolution = pi.copy()\n",
    "        return\n",
    "\n",
    "    availables = set(range(1, N+1)).difference(set(pi))\n",
    "    for i in availables:\n",
    "        pi_.append(i)\n",
    "        solve(D, pi_, verbose=verbose)\n",
    "        pi_.pop()"
   ]
  },
  {
   "cell_type": "markdown",
   "metadata": {},
   "source": [
    "### Complejidad temporal: O(n!)\n",
    "### Complejidad espacial: O(??)\n",
    "\n",
    "### Poda por optimalidad:\n",
    "Si $S(D, \\pi')$, con $\\pi'$ una solucion parcial de $|\\pi'|=k<n$, si sumandole las $k$ celdas minimas de $D$, no es menor que el minimo, entonces no tiene sentido seguir buscando con ese $\\pi'$."
   ]
  },
  {
   "cell_type": "code",
   "execution_count": 157,
   "metadata": {},
   "outputs": [
    {
     "name": "stdout",
     "output_type": "stream",
     "text": [
      "pi:[1, 2, 3, 4] -> S(pi):9\n",
      "pi:[1, 2, 4, 3] -> S(pi):67\n",
      "pi:[1, 3, 2, 4] -> S(pi):45\n",
      "pi:[1, 3, 4, 2] -> S(pi):44\n",
      "pi:[1, 4, 2, 3] -> S(pi):56\n",
      "pi:[1, 4, 3, 2] -> S(pi):67\n",
      "pi:[2, 1, 3, 4] -> S(pi):44\n",
      "pi:[2, 1, 4, 3] -> S(pi):67\n",
      "pi:[2, 3, 1, 4] -> S(pi):56\n",
      "pi:[2, 3, 4, 1] -> S(pi):9\n",
      "pi:[2, 4, 1, 3] -> S(pi):45\n",
      "pi:[2, 4, 3, 1] -> S(pi):67\n",
      "pi:[3, 1, 2, 4] -> S(pi):67\n",
      "pi:[3, 1, 4, 2] -> S(pi):56\n",
      "pi:[3, 2, 1, 4] -> S(pi):67\n",
      "pi:[3, 2, 4, 1] -> S(pi):45\n",
      "pi:[3, 4, 1, 2] -> S(pi):9\n",
      "pi:[3, 4, 2, 1] -> S(pi):44\n",
      "pi:[4, 1, 2, 3] -> S(pi):9\n",
      "pi:[4, 1, 3, 2] -> S(pi):45\n",
      "pi:[4, 2, 1, 3] -> S(pi):44\n",
      "pi:[4, 2, 3, 1] -> S(pi):56\n",
      "pi:[4, 3, 1, 2] -> S(pi):67\n",
      "pi:[4, 3, 2, 1] -> S(pi):67\n",
      "lowestValue:  9\n",
      "currentBestSolution:  [1, 2, 3, 4]\n"
     ]
    }
   ],
   "source": [
    "D = [[0, 1, 10, 10],\n",
    "     [10, 0, 3, 15],\n",
    "     [21, 17, 0, 2],\n",
    "     [3, 22, 30, 0]]\n",
    "\n",
    "solve(D, verbose=True)\n",
    "# print()\n",
    "print(\"lowestValue: \", lowestValue)\n",
    "print(\"currentBestSolution: \", currentBestSolution)"
   ]
  },
  {
   "cell_type": "code",
   "execution_count": null,
   "metadata": {},
   "outputs": [],
   "source": []
  }
 ],
 "metadata": {
  "kernelspec": {
   "display_name": "Python 3",
   "language": "python",
   "name": "python3"
  },
  "language_info": {
   "codemirror_mode": {
    "name": "ipython",
    "version": 3
   },
   "file_extension": ".py",
   "mimetype": "text/x-python",
   "name": "python",
   "nbconvert_exporter": "python",
   "pygments_lexer": "ipython3",
   "version": "3.10.11"
  }
 },
 "nbformat": 4,
 "nbformat_minor": 2
}
