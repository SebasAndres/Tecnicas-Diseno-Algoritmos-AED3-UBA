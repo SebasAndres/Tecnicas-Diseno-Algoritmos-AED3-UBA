{
 "cells": [
  {
   "cell_type": "markdown",
   "metadata": {},
   "source": [
    "# OptiPago\n",
    "\n",
    "B := Multiconjunto de valores de billetes (pueden repetirse)\n",
    "\n",
    "c := Costo del producto que queremos comprar\n",
    "\n",
    "<b> Problema: </b> Queremos comprar un producto de precio $c$ pagando a una maquina que no da vuelto. Debemos cubrir el costo y minimizar el exceso. Si hay varias opciones que minimizan el exceso, quedarse con la que implique menor cantidad de billetes.\n",
    "\n",
    "Es decir, \n",
    "- Primario: Minimizar exceso de pago.\n",
    "- Secundario: Minimizar cantidad de billetes. "
   ]
  },
  {
   "cell_type": "markdown",
   "metadata": {},
   "source": [
    "### [a] Estrategia por backtracking\n",
    "\n",
    "Dos alternativas para cada iteracion:\n",
    "1. Agregamos el billete $B_i$ y nos queda pagar $c - B_i$\n",
    "2. No agregamos el billete $B_i$ y nos queda pagar $c$, gastando 0 billetes mas.\n",
    "\n",
    "#### Funcion recursiva\n",
    "\n",
    "$$ cc(B, i, c)= \\left\\{\n",
    "    \\begin{array}{lcc}\n",
    "    (\\inf,\\inf) & i==0 \\land c>0\\\\\n",
    "    \\\\\n",
    "    (0,0) & i==0 \\land c==0\\\\\n",
    "    \\\\\n",
    "    (0,-c) & i==0 \\land c<0\\\\\n",
    "    \\\\\n",
    "    compare(cc(B[:-1],c), cc(B[:-1],c-B[-1])) & cc. \\\\\n",
    "    \\end{array} \\right.\n",
    "$$"
   ]
  },
  {
   "cell_type": "markdown",
   "metadata": {},
   "source": [
    "### [b] Implementacion "
   ]
  },
  {
   "cell_type": "code",
   "execution_count": 65,
   "metadata": {},
   "outputs": [],
   "source": [
    "N = 10\n",
    "\n",
    "def compare(caso1, caso2):\n",
    "    c1,q1 = caso1\n",
    "    c2,q2 = caso2\n",
    "    if c1<=0 and c2<=0:\n",
    "        if c1>c2:\n",
    "            return c1,q1\n",
    "        elif c1==c2:\n",
    "            if q1<q2:\n",
    "                return c1,q1\n",
    "            return c2,q2\n",
    "        return c2,q2\n",
    "    else:\n",
    "        if c1<c2:\n",
    "            return c1,q1\n",
    "        return c2,q2\n",
    "\n",
    "def cc(B,i,c,u=[]):\n",
    "    # INPUT\n",
    "    # B: lista de valores de billetes\n",
    "    # i: indice hasta el cual mirar \n",
    "    # c: precio al cual llegar\n",
    "    # u: billetes usados\n",
    "\n",
    "    # OUTPUT\n",
    "    # c': el minimo costo mayor o igual a c que es posible pagar con los billetes de B\n",
    "    # q : cantidad minima de billetes\n",
    "\n",
    "    # caso base\n",
    "    if i==0 or c<=0:\n",
    "        return c, u\n",
    "\n",
    "    # caso recursivo\n",
    "    casoIncluye = cc(B[:i], i-1, c-B[i], u=u+[B[i]])\n",
    "    casoExcluye = cc(B[:i], i-1, c, u=u)    \n",
    "\n",
    "    return compare(casoIncluye, casoExcluye)"
   ]
  },
  {
   "cell_type": "code",
   "execution_count": 67,
   "metadata": {},
   "outputs": [
    {
     "name": "stdout",
     "output_type": "stream",
     "text": [
      "Minimo exceso:  0\n",
      "Billetes usados:  [10, 5]\n",
      "Len billetes usados:  2\n"
     ]
    }
   ],
   "source": [
    "_B = [2,3,5,10,20,20]\n",
    "exceso, billetes = cc(_B, len(_B)-1, 15)\n",
    "print(\"Minimo exceso: \", exceso)\n",
    "print(\"Billetes usados: \", billetes)\n",
    "print(\"Len billetes usados: \", len(billetes))"
   ]
  },
  {
   "cell_type": "markdown",
   "metadata": {},
   "source": [
    "### [c] Propiedad superposicion de problemas:\n",
    "\n",
    "Sucede cuando $\\Omega(llamadosRecursivos) >> O(cantidadEstados)$\n",
    "\n",
    "En este caso, hay $O(n*c)$ estados posibles y $O(2^n)$ llamadas recursivas.\n",
    "\n",
    "$$2^n >> n*c$$\n",
    "\n",
    "Cuando $c >> 2^n/n$"
   ]
  },
  {
   "cell_type": "markdown",
   "metadata": {},
   "source": [
    "### [d] PD - Top Down"
   ]
  },
  {
   "cell_type": "code",
   "execution_count": null,
   "metadata": {},
   "outputs": [],
   "source": [
    "def cc_PD(B,i,c,u=[]):\n",
    "    # INPUT\n",
    "    # B: lista de valores de billetes\n",
    "    # i: indice hasta el cual mirar \n",
    "    # c: precio al cual llegar\n",
    "    # u: billetes usados\n",
    "\n",
    "    # OUTPUT\n",
    "    # c': el minimo costo mayor o igual a c que es posible pagar con los billetes de B\n",
    "    # q : cantidad minima de billetes\n",
    "\n",
    "    global M\n",
    "\n",
    "    # caso base\n",
    "    if i==0 or c<=0:\n",
    "        return c, u\n",
    "\n",
    "    # caso recursivo\n",
    "\n",
    "    # intento aprovechar M\n",
    "    if M[i][c] != None:\n",
    "        return M[i][c]\n",
    "    \n",
    "    # si no, calculo\n",
    "    casoIncluye = cc(B[:i], i-1, c-B[i], u=u+[B[i]])\n",
    "    casoExcluye = cc(B[:i], i-1, c, u=u)    \n",
    "    return compare(casoIncluye, casoExcluye)"
   ]
  }
 ],
 "metadata": {
  "kernelspec": {
   "display_name": "Python 3",
   "language": "python",
   "name": "python3"
  },
  "language_info": {
   "codemirror_mode": {
    "name": "ipython",
    "version": 3
   },
   "file_extension": ".py",
   "mimetype": "text/x-python",
   "name": "python",
   "nbconvert_exporter": "python",
   "pygments_lexer": "ipython3",
   "version": "3.10.11"
  }
 },
 "nbformat": 4,
 "nbformat_minor": 2
}
