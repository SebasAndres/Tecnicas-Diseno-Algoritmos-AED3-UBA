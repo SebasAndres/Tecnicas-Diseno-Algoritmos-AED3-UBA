{
 "cells": [
  {
   "cell_type": "markdown",
   "metadata": {},
   "source": [
    "# Programacion Dinamica\n",
    "La programación dinámica es una técnica que se utiliza para resolver problemas de optimización dividiéndolos en subproblemas más pequeños y almacenando las soluciones de estos subproblemas para evitar calcularlas varias veces. Hay dos enfoques principales para la programación dinámica: top-down (también conocido como memoización) y bottom-up.\n",
    "\n",
    "Es util cuando hay **Superposicion de problemas**.\n",
    "\n",
    "\n",
    "### Superposicion de problemas:\n",
    "La propiedad de superposición de subproblemas se refiere a la situación en que una solución óptima puede construirse eficientemente a partir de soluciones óptimas de sus subproblemas.\n",
    "Sucede cuando la cantidad de llamadas recursivas de la funcion sin memorizar es mucho mayor que la cantidad de estados posibles.\n",
    "$$\\Omega(llamadasRecursivas) \\gg O(cantEstadosPosibles)$$\n",
    "\n",
    "\n",
    "### Complejidad temporal y espacial: \n",
    "Suele ser pasar por todos los estados disponibles. Sup. `M::bool[N][W]`, entonces $O(N*W)$\n",
    "\n",
    "\n",
    "\n",
    "### Enfoques de la Progamacion Dinamica"
   ]
  },
  {
   "cell_type": "markdown",
   "metadata": {},
   "source": [
    "#### 1. **Top-Down (Memoización)**:\n",
    "En este enfoque, comienzas con el problema original y lo divides en subproblemas más pequeños, que luego resuelves y almacenas las soluciones. Cuando necesitas la solución a un subproblema, primero verificas si ya lo has resuelto y almacenado. Si es así, simplemente usas la solución almacenada. Si no, resuelves el subproblema y luego lo almacenas para su uso futuro. Este enfoque se llama \"top-down\" porque comienzas con el problema original (la \"cima\") y trabajas hacia abajo a los subproblemas más pequeños."
   ]
  },
  {
   "cell_type": "code",
   "execution_count": null,
   "metadata": {},
   "outputs": [],
   "source": [
    "# ejemplo de un algoritmo topdown con programacion dinamica para calcular el factorial de un numero\n",
    "memo = [0] * 1000\n",
    "\n",
    "def factorial(n):\n",
    "    global memo\n",
    "    if n == 0:\n",
    "        return 1\n",
    "    if memo[n] == 0:\n",
    "        memo[n] = n * factorial(n-1, memo)\n",
    "    return memo[n]"
   ]
  },
  {
   "cell_type": "markdown",
   "metadata": {},
   "source": [
    "#### 2. **Bottom-Up**: \n",
    "En este enfoque, comienzas resolviendo los subproblemas más pequeños y simples primero y los usas para resolver subproblemas más grandes y complejos. Continúas este proceso hasta que has resuelto el problema original. Este enfoque se llama \"bottom-up\" porque comienzas con los subproblemas más pequeños (el \"fondo\") y trabajas hacia arriba hasta llegar al problema original.\n",
    "\n",
    "La elección entre estos dos enfoques depende del problema específico que estés resolviendo y de tus preferencias personales. Algunas personas encuentran que el enfoque top-down es más intuitivo porque se asemeja más a cómo normalmente pensamos en resolver problemas. Sin embargo, el enfoque bottom-up puede ser más eficiente en términos de uso de la memoria y del tiempo de ejecución, porque garantiza que cada subproblema se resuelve y se almacena solo una vez."
   ]
  },
  {
   "cell_type": "code",
   "execution_count": 1,
   "metadata": {},
   "outputs": [],
   "source": [
    "# ejemplo de un alogoritmo bottom up con programacion dinamica para calcular el factorial de un numero\n",
    "def factorial2(n):\n",
    "    # precalcula todos los factoriales de 1 a n\n",
    "    memo = [0] * 1000\n",
    "    memo[0] = 1\n",
    "    for i in range(1, n+1):\n",
    "        memo[i] = i * memo[i-1]\n",
    "\n",
    "    # devuelve el valor pedido\n",
    "    return memo[n]"
   ]
  },
  {
   "cell_type": "markdown",
   "metadata": {},
   "source": [
    "En Resumen\n",
    "1. Top-Down: Utiliza memoización. Bueno para evitar cálculos innecesarios si no todos los subproblemas son necesarios.\n",
    "2. Bottom-Up: Utiliza una aproximación iterativa. Eficiente para problemas donde se deben calcular todos los subproblemas para llegar a la solución del problema completo."
   ]
  }
 ],
 "metadata": {
  "kernelspec": {
   "display_name": "Python 3",
   "language": "python",
   "name": "python3"
  },
  "language_info": {
   "codemirror_mode": {
    "name": "ipython",
    "version": 3
   },
   "file_extension": ".py",
   "mimetype": "text/x-python",
   "name": "python",
   "nbconvert_exporter": "python",
   "pygments_lexer": "ipython3",
   "version": "3.10.11"
  }
 },
 "nbformat": 4,
 "nbformat_minor": 2
}
