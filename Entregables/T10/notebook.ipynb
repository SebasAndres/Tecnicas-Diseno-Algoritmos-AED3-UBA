{
 "cells": [
  {
   "cell_type": "code",
   "execution_count": 9,
   "metadata": {},
   "outputs": [],
   "source": [
    "import heapq\n",
    "\n",
    "class Graph:\n",
    "    def __init__(self, floors, times):\n",
    "        self.nodes = set() # (ascensor, piso)\n",
    "        self.edges = dict() # lista ady\n",
    "        self.unique_vertex = dict() # floor -> [ascensor1, ascensor2, ...]\n",
    "\n",
    "        for i in range(len(floors)):\n",
    "            last = None\n",
    "            for floor in floors[i]:\n",
    "                # Agrego nodo al grafo e inicializo lista de adyacencia para ese nodo\n",
    "                self.nodes.add((i, floor))\n",
    "                self.edges[(i, floor)] = []\n",
    "\n",
    "                # Agrego aristas entre los nodos del mismo ascensor\n",
    "                if last != None:\n",
    "                    _, f = last\n",
    "                    self.edges[last].append(((i,floor), times[i]*(floor-f))) # Edge en lista de ady: ((ascensor1, piso1), tiempoAscensor1)\n",
    "                    self.edges[(i,floor)].append((last, times[i]*(floor-f)))\n",
    "                last = (i, floor)\n",
    "                \n",
    "                # Agrego aristas ente los nodos de la misma planta\n",
    "                if floor in self.unique_vertex:\n",
    "                    for j in self.unique_vertex[floor]:\n",
    "                        self.edges[(i, floor)].append(((j, floor), 60))\n",
    "                        self.edges[(j, floor)].append(((i, floor), 60))\n",
    "                if floor not in self.unique_vertex:\n",
    "                    self.unique_vertex[floor] = []\n",
    "                self.unique_vertex[floor].append(i)\n",
    "\n",
    "    def dijkstra(self, start):\n",
    "        # Algoritmo de Dijkstra para encontrar el camino más corto desde el nodo dado    \n",
    "        # usando una cola de prioridad\n",
    "        queue = []\n",
    "        heapq.heappush(queue, (0, start))        \n",
    "        visited = set()\n",
    "        dist = {vertex: float('infinity') for vertex in self.nodes}\n",
    "        dist[start] = 0\n",
    "        while queue:\n",
    "            current_distance, current_vertex = heapq.heappop(queue)\n",
    "            if current_vertex in visited:\n",
    "                continue\n",
    "            visited.add(current_vertex)\n",
    "            for neighbor, weight in self.edges[current_vertex]:\n",
    "                distance = current_distance + weight\n",
    "                if distance < dist[neighbor]:\n",
    "                    dist[neighbor] = distance\n",
    "                    heapq.heappush(queue, (distance, neighbor))\n",
    "        return dist"
   ]
  },
  {
   "cell_type": "code",
   "execution_count": 10,
   "metadata": {},
   "outputs": [],
   "source": [
    "def solve(n,k,times,floors):\n",
    "    # Armamos el grafo\n",
    "    G = Graph(floors, times)    \n",
    "\n",
    "    # Agregamos un nodo fantasma con aristas a todos los nodos de la planta 0\n",
    "    G.nodes.add((-1, -1))\n",
    "    G.edges[(-1, -1)] = []\n",
    "    for asc in G.unique_vertex[0]:\n",
    "        G.edges[(-1, -1)].append(((asc,0),0))\n",
    "\n",
    "    # Corremos el algoritmo de Dijkstra desde el nodo fantasma\n",
    "    dist = G.dijkstra((-1, -1))\n",
    "\n",
    "    # Buscamos el nodo con el menor tiempo\n",
    "    minSeg = float('infinity')\n",
    "    for asc in G.unique_vertex[k]:\n",
    "        if dist[(asc,k)] < minSeg:\n",
    "            minSeg = dist[(asc,k)]\n",
    "    if minSeg == float('infinity'):\n",
    "        return \"IMPOSSIBLE\", G\n",
    "    return minSeg, G\n",
    "\n",
    "floors = [[0, 1, 3, 5, 7, 9, 11, 13, 15, 20, 99], [4, 13, 15, 19, 20, 25, 30]]\n",
    "times = [10, 5]\n",
    "\n",
    "m,G = solve(2, 30, times, floors)"
   ]
  },
  {
   "cell_type": "code",
   "execution_count": 11,
   "metadata": {},
   "outputs": [
    {
     "data": {
      "text/plain": [
       "{(0, 0): [((0, 1), 10)],\n",
       " (0, 1): [((0, 0), 10), ((0, 3), 20)],\n",
       " (0, 3): [((0, 1), 20), ((0, 5), 20)],\n",
       " (0, 5): [((0, 3), 20), ((0, 7), 20)],\n",
       " (0, 7): [((0, 5), 20), ((0, 9), 20)],\n",
       " (0, 9): [((0, 7), 20), ((0, 11), 20)],\n",
       " (0, 11): [((0, 9), 20), ((0, 13), 20)],\n",
       " (0, 13): [((0, 11), 20), ((0, 15), 20), ((1, 13), 60)],\n",
       " (0, 15): [((0, 13), 20), ((0, 20), 50), ((1, 15), 60)],\n",
       " (0, 20): [((0, 15), 50), ((0, 99), 790), ((1, 20), 60)],\n",
       " (0, 99): [((0, 20), 790)],\n",
       " (1, 4): [((1, 13), 45)],\n",
       " (1, 13): [((1, 4), 45), ((0, 13), 60), ((1, 15), 10)],\n",
       " (1, 15): [((1, 13), 10), ((0, 15), 60), ((1, 19), 20)],\n",
       " (1, 19): [((1, 15), 20), ((1, 20), 5)],\n",
       " (1, 20): [((1, 19), 5), ((0, 20), 60), ((1, 25), 25)],\n",
       " (1, 25): [((1, 20), 25), ((1, 30), 25)],\n",
       " (1, 30): [((1, 25), 25)],\n",
       " (-1, -1): [((0, 0), 0)]}"
      ]
     },
     "execution_count": 11,
     "metadata": {},
     "output_type": "execute_result"
    }
   ],
   "source": [
    "G.edges"
   ]
  },
  {
   "cell_type": "code",
   "execution_count": 12,
   "metadata": {},
   "outputs": [
    {
     "data": {
      "text/plain": [
       "275"
      ]
     },
     "execution_count": 12,
     "metadata": {},
     "output_type": "execute_result"
    }
   ],
   "source": [
    "m"
   ]
  }
 ],
 "metadata": {
  "kernelspec": {
   "display_name": "Python 3",
   "language": "python",
   "name": "python3"
  },
  "language_info": {
   "codemirror_mode": {
    "name": "ipython",
    "version": 3
   },
   "file_extension": ".py",
   "mimetype": "text/x-python",
   "name": "python",
   "nbconvert_exporter": "python",
   "pygments_lexer": "ipython3",
   "version": "3.10.11"
  }
 },
 "nbformat": 4,
 "nbformat_minor": 2
}
